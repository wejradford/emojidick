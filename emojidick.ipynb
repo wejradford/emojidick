{
 "cells": [
  {
   "cell_type": "markdown",
   "metadata": {},
   "source": [
    "# Emojidick\n",
    "\n",
    "This assumes that you have a copy of the [emojidick dataset](http://emojidick.com). Talk to [Fred Benenson](http://fredbenenson.com/) for details.\n",
    "\n",
    "You'll need to run `python` inside a `jupyter-notebook` with non-standard packages (listed below).\n",
    "\n",
    "To get the part-of-speech analysis, you'll need to run [https://github.com/dbamman/book-nlp](book-nlp) on the English text.\n",
    "\n",
    "The notebook expects to have the following data:\n",
    "* `emojidick_packaged/emojidick.en` - English version\n",
    "* `emojidick_packaged/emojidick.emj` - Emoji version\n",
    "* `book-nlp-output/melville.moby.tokens` - `book-nlp` output"
   ]
  },
  {
   "cell_type": "code",
   "execution_count": 1,
   "metadata": {
    "collapsed": true
   },
   "outputs": [],
   "source": [
    "%matplotlib inline\n",
    "from __future__ import print_function\n",
    "\n",
    "from collections import Counter, defaultdict\n",
    "import csv\n",
    "import datetime\n",
    "import itertools\n",
    "import math\n",
    "import string"
   ]
  },
  {
   "cell_type": "markdown",
   "metadata": {},
   "source": [
    "And these need to be installed using `pip`:"
   ]
  },
  {
   "cell_type": "code",
   "execution_count": 2,
   "metadata": {
    "collapsed": true
   },
   "outputs": [],
   "source": [
    "import emoji as emoji_package\n",
    "from IPython.display import display\n",
    "from matplotlib import pyplot as mpl\n",
    "from nltk import AlignedSent, IBMModel1, word_tokenize\n",
    "from nltk.corpus import stopwords\n",
    "import numpy as np\n",
    "import pandas as pd\n",
    "import scipy as sp\n",
    "import seaborn"
   ]
  },
  {
   "cell_type": "code",
   "execution_count": 3,
   "metadata": {
    "collapsed": false,
    "scrolled": true
   },
   "outputs": [],
   "source": [
    "STOPS = set(t.lower() for t in stopwords.words('english'))\n",
    "csv.field_size_limit(int(1e6))\n",
    "\n",
    "def clean(tokens):\n",
    "    return [t.lower() for t in tokens if not set(t).intersection(set(string.punctuation))]\n",
    "\n",
    "def read_data(text, data):\n",
    "    lines = []\n",
    "    with open(text) as t, open(data) as d:\n",
    "        for text_line, emoji_line in zip(t, d):\n",
    "            lines.append((clean(word_tokenize(text_line.strip())), emoji_line.strip().split()))\n",
    "    return lines\n",
    "\n",
    "def counts(lines):\n",
    "    c = Counter()\n",
    "    for l in lines:\n",
    "        c.update(l)\n",
    "    return c"
   ]
  },
  {
   "cell_type": "code",
   "execution_count": 4,
   "metadata": {
    "collapsed": false,
    "scrolled": true
   },
   "outputs": [
    {
     "name": "stdout",
     "output_type": "stream",
     "text": [
      "Read 9971 translations\n"
     ]
    }
   ],
   "source": [
    "lines = read_data('emojidick_packaged/emojidick.en', 'emojidick_packaged/emojidick.emj')\n",
    "print('Read {} translations'.format(len(lines)))"
   ]
  },
  {
   "cell_type": "markdown",
   "metadata": {},
   "source": [
    "## Frequency plots\n",
    "\n",
    "Emoji frequencies don't follow Zipfian distributions."
   ]
  },
  {
   "cell_type": "code",
   "execution_count": 5,
   "metadata": {
    "collapsed": false,
    "scrolled": true
   },
   "outputs": [
    {
     "name": "stdout",
     "output_type": "stream",
     "text": [
      "Text\t16454 types\t207194 tokens\n",
      "Emoji\t470 types\t93342 tokens\n",
      "Average sentence length\tTokens\t20.8\n",
      "Average sentence length\tEmoji\t9.4\n",
      "Average length diff\t11.4\n"
     ]
    }
   ],
   "source": [
    "tokens = counts(l[0] for l in lines)\n",
    "emoji = counts(l[1] for l in lines)\n",
    "print('Text\\t{} types\\t{} tokens'.format(len(tokens), sum(tokens.itervalues())))\n",
    "print('Emoji\\t{} types\\t{} tokens'.format(len(emoji), sum(emoji.itervalues())))\n",
    "print('Average sentence length\\tTokens\\t{:.1f}'.format(sum(tokens.values()) / float(len(lines))))\n",
    "print('Average sentence length\\tEmoji\\t{:.1f}'.format(sum(emoji.values()) / float(len(lines))))\n",
    "print('Average length diff\\t{:.1f}'.format(sum(len(t) - len(e) for t, e in lines) / float(len(lines))))"
   ]
  },
  {
   "cell_type": "code",
   "execution_count": 6,
   "metadata": {
    "collapsed": false,
    "scrolled": true
   },
   "outputs": [
    {
     "name": "stderr",
     "output_type": "stream",
     "text": [
      "/usr/local/lib/python2.7/site-packages/matplotlib/scale.py:101: RuntimeWarning: invalid value encountered in less_equal\n",
      "  a[a <= 0.0] = 1e-300\n"
     ]
    },
    {
     "data": {
      "image/png": "[encoded data removed]",
      "text/plain": [
       "<matplotlib.figure.Figure at 0x1066015d0>"
      ]
     },
     "metadata": {},
     "output_type": "display_data"
    }
   ],
   "source": [
    "def plot(text, emoji, filename=None):\n",
    "    text_it = sorted(text.itervalues(), reverse=True)\n",
    "    emoji_it = sorted(emoji.itervalues(), reverse=True)\n",
    "    t = pd.DataFrame({'Rank': i, 'EMOJI': e, 'TEXT': t} for i, (e, t)\n",
    "                     in enumerate(itertools.izip_longest(emoji_it, \n",
    "                                                         text_it)))\n",
    "    #help(t.plot)\n",
    "    fig = t.plot(x='Rank', logy=True, ylim=(1, 10e3), subplots=True)\n",
    "    if filename:\n",
    "        mpl.savefig(filename)\n",
    "\n",
    "plot(tokens, emoji, 'counts.pdf')"
   ]
  },
  {
   "cell_type": "markdown",
   "metadata": {},
   "source": [
    "## Most-common Emoji"
   ]
  },
  {
   "cell_type": "code",
   "execution_count": 7,
   "metadata": {
    "collapsed": false,
    "scrolled": true
   },
   "outputs": [
    {
     "data": {
      "text/html": [
       "<div>\n",
       "<table border=\"1\" class=\"dataframe\">\n",
       "  <thead>\n",
       "    <tr style=\"text-align: right;\">\n",
       "      <th></th>\n",
       "      <th>count</th>\n",
       "      <th>emoji</th>\n",
       "    </tr>\n",
       "  </thead>\n",
       "  <tbody>\n",
       "    <tr>\n",
       "      <th>0</th>\n",
       "      <td>743</td>\n",
       "      <td>👲</td>\n",
       "    </tr>\n",
       "    <tr>\n",
       "      <th>1</th>\n",
       "      <td>724</td>\n",
       "      <td>💁</td>\n",
       "    </tr>\n",
       "    <tr>\n",
       "      <th>2</th>\n",
       "      <td>669</td>\n",
       "      <td>👸</td>\n",
       "    </tr>\n",
       "    <tr>\n",
       "      <th>3</th>\n",
       "      <td>637</td>\n",
       "      <td>:coffee:</td>\n",
       "    </tr>\n",
       "    <tr>\n",
       "      <th>4</th>\n",
       "      <td>626</td>\n",
       "      <td>🚑</td>\n",
       "    </tr>\n",
       "    <tr>\n",
       "      <th>5</th>\n",
       "      <td>607</td>\n",
       "      <td>:mortar_board:</td>\n",
       "    </tr>\n",
       "    <tr>\n",
       "      <th>6</th>\n",
       "      <td>598</td>\n",
       "      <td>🔑</td>\n",
       "    </tr>\n",
       "    <tr>\n",
       "      <th>7</th>\n",
       "      <td>574</td>\n",
       "      <td>🎡</td>\n",
       "    </tr>\n",
       "    <tr>\n",
       "      <th>8</th>\n",
       "      <td>556</td>\n",
       "      <td>🏬</td>\n",
       "    </tr>\n",
       "    <tr>\n",
       "      <th>9</th>\n",
       "      <td>537</td>\n",
       "      <td>✖</td>\n",
       "    </tr>\n",
       "    <tr>\n",
       "      <th>10</th>\n",
       "      <td>511</td>\n",
       "      <td>:grey_question:</td>\n",
       "    </tr>\n",
       "    <tr>\n",
       "      <th>11</th>\n",
       "      <td>496</td>\n",
       "      <td>🐋</td>\n",
       "    </tr>\n",
       "    <tr>\n",
       "      <th>12</th>\n",
       "      <td>442</td>\n",
       "      <td>:grey_exclamation:</td>\n",
       "    </tr>\n",
       "    <tr>\n",
       "      <th>13</th>\n",
       "      <td>439</td>\n",
       "      <td>👀</td>\n",
       "    </tr>\n",
       "    <tr>\n",
       "      <th>14</th>\n",
       "      <td>438</td>\n",
       "      <td>👦</td>\n",
       "    </tr>\n",
       "    <tr>\n",
       "      <th>15</th>\n",
       "      <td>419</td>\n",
       "      <td>🙎</td>\n",
       "    </tr>\n",
       "    <tr>\n",
       "      <th>16</th>\n",
       "      <td>415</td>\n",
       "      <td>:clap:</td>\n",
       "    </tr>\n",
       "    <tr>\n",
       "      <th>17</th>\n",
       "      <td>407</td>\n",
       "      <td>:exclamation:</td>\n",
       "    </tr>\n",
       "    <tr>\n",
       "      <th>18</th>\n",
       "      <td>399</td>\n",
       "      <td>:flushed:</td>\n",
       "    </tr>\n",
       "    <tr>\n",
       "      <th>19</th>\n",
       "      <td>379</td>\n",
       "      <td>👨</td>\n",
       "    </tr>\n",
       "    <tr>\n",
       "      <th>20</th>\n",
       "      <td>374</td>\n",
       "      <td>:angry:</td>\n",
       "    </tr>\n",
       "    <tr>\n",
       "      <th>21</th>\n",
       "      <td>374</td>\n",
       "      <td>:couple:</td>\n",
       "    </tr>\n",
       "    <tr>\n",
       "      <th>22</th>\n",
       "      <td>367</td>\n",
       "      <td>⛵</td>\n",
       "    </tr>\n",
       "    <tr>\n",
       "      <th>23</th>\n",
       "      <td>366</td>\n",
       "      <td>:point_left:</td>\n",
       "    </tr>\n",
       "    <tr>\n",
       "      <th>24</th>\n",
       "      <td>364</td>\n",
       "      <td>:muscle:</td>\n",
       "    </tr>\n",
       "    <tr>\n",
       "      <th>25</th>\n",
       "      <td>363</td>\n",
       "      <td>:+1:</td>\n",
       "    </tr>\n",
       "    <tr>\n",
       "      <th>26</th>\n",
       "      <td>362</td>\n",
       "      <td>👱</td>\n",
       "    </tr>\n",
       "    <tr>\n",
       "      <th>27</th>\n",
       "      <td>352</td>\n",
       "      <td>:four:</td>\n",
       "    </tr>\n",
       "    <tr>\n",
       "      <th>28</th>\n",
       "      <td>351</td>\n",
       "      <td>🐽</td>\n",
       "    </tr>\n",
       "    <tr>\n",
       "      <th>29</th>\n",
       "      <td>350</td>\n",
       "      <td>:ok_hand:</td>\n",
       "    </tr>\n",
       "    <tr>\n",
       "      <th>30</th>\n",
       "      <td>341</td>\n",
       "      <td>:fearful:</td>\n",
       "    </tr>\n",
       "    <tr>\n",
       "      <th>31</th>\n",
       "      <td>340</td>\n",
       "      <td>😫</td>\n",
       "    </tr>\n",
       "    <tr>\n",
       "      <th>32</th>\n",
       "      <td>340</td>\n",
       "      <td>:blush:</td>\n",
       "    </tr>\n",
       "    <tr>\n",
       "      <th>33</th>\n",
       "      <td>335</td>\n",
       "      <td>🐬</td>\n",
       "    </tr>\n",
       "    <tr>\n",
       "      <th>34</th>\n",
       "      <td>333</td>\n",
       "      <td>:u6307:</td>\n",
       "    </tr>\n",
       "    <tr>\n",
       "      <th>35</th>\n",
       "      <td>332</td>\n",
       "      <td>:relieved:</td>\n",
       "    </tr>\n",
       "    <tr>\n",
       "      <th>36</th>\n",
       "      <td>330</td>\n",
       "      <td>:zero:</td>\n",
       "    </tr>\n",
       "    <tr>\n",
       "      <th>37</th>\n",
       "      <td>327</td>\n",
       "      <td>:question:</td>\n",
       "    </tr>\n",
       "    <tr>\n",
       "      <th>38</th>\n",
       "      <td>325</td>\n",
       "      <td>🙍</td>\n",
       "    </tr>\n",
       "    <tr>\n",
       "      <th>39</th>\n",
       "      <td>324</td>\n",
       "      <td>:no_smoking:</td>\n",
       "    </tr>\n",
       "    <tr>\n",
       "      <th>40</th>\n",
       "      <td>324</td>\n",
       "      <td>:clock12:</td>\n",
       "    </tr>\n",
       "    <tr>\n",
       "      <th>41</th>\n",
       "      <td>320</td>\n",
       "      <td>:fist:</td>\n",
       "    </tr>\n",
       "    <tr>\n",
       "      <th>42</th>\n",
       "      <td>317</td>\n",
       "      <td>🚤</td>\n",
       "    </tr>\n",
       "    <tr>\n",
       "      <th>43</th>\n",
       "      <td>317</td>\n",
       "      <td>🏃</td>\n",
       "    </tr>\n",
       "    <tr>\n",
       "      <th>44</th>\n",
       "      <td>316</td>\n",
       "      <td>:stuck_out_tongue_winking_eye:</td>\n",
       "    </tr>\n",
       "    <tr>\n",
       "      <th>45</th>\n",
       "      <td>316</td>\n",
       "      <td>:e-mail:</td>\n",
       "    </tr>\n",
       "    <tr>\n",
       "      <th>46</th>\n",
       "      <td>313</td>\n",
       "      <td>:dizzy:</td>\n",
       "    </tr>\n",
       "    <tr>\n",
       "      <th>47</th>\n",
       "      <td>311</td>\n",
       "      <td>💀</td>\n",
       "    </tr>\n",
       "    <tr>\n",
       "      <th>48</th>\n",
       "      <td>311</td>\n",
       "      <td>:smiley_cat:</td>\n",
       "    </tr>\n",
       "    <tr>\n",
       "      <th>49</th>\n",
       "      <td>308</td>\n",
       "      <td>👚</td>\n",
       "    </tr>\n",
       "  </tbody>\n",
       "</table>\n",
       "</div>"
      ],
      "text/plain": [
       "    count                           emoji\n",
       "0     743                              👲\n",
       "1     724                              💁\n",
       "2     669                              👸\n",
       "3     637                        :coffee:\n",
       "4     626                              🚑\n",
       "5     607                  :mortar_board:\n",
       "6     598                              🔑\n",
       "7     574                              🎡\n",
       "8     556                              🏬\n",
       "9     537                               ✖\n",
       "10    511                 :grey_question:\n",
       "11    496                              🐋\n",
       "12    442              :grey_exclamation:\n",
       "13    439                              👀\n",
       "14    438                              👦\n",
       "15    419                              🙎\n",
       "16    415                          :clap:\n",
       "17    407                   :exclamation:\n",
       "18    399                       :flushed:\n",
       "19    379                              👨\n",
       "20    374                         :angry:\n",
       "21    374                        :couple:\n",
       "22    367                               ⛵\n",
       "23    366                    :point_left:\n",
       "24    364                        :muscle:\n",
       "25    363                            :+1:\n",
       "26    362                              👱\n",
       "27    352                          :four:\n",
       "28    351                              🐽\n",
       "29    350                       :ok_hand:\n",
       "30    341                       :fearful:\n",
       "31    340                              😫\n",
       "32    340                         :blush:\n",
       "33    335                              🐬\n",
       "34    333                         :u6307:\n",
       "35    332                      :relieved:\n",
       "36    330                          :zero:\n",
       "37    327                      :question:\n",
       "38    325                              🙍\n",
       "39    324                    :no_smoking:\n",
       "40    324                       :clock12:\n",
       "41    320                          :fist:\n",
       "42    317                              🚤\n",
       "43    317                              🏃\n",
       "44    316  :stuck_out_tongue_winking_eye:\n",
       "45    316                        :e-mail:\n",
       "46    313                         :dizzy:\n",
       "47    311                              💀\n",
       "48    311                    :smiley_cat:\n",
       "49    308                              👚"
      ]
     },
     "metadata": {},
     "output_type": "display_data"
    }
   ],
   "source": [
    "df = pd.DataFrame(({'emoji': emoji_package.emojize(e), 'count': c} for e, c in emoji.most_common(50)))\n",
    "display(df)"
   ]
  },
  {
   "cell_type": "code",
   "execution_count": 8,
   "metadata": {
    "collapsed": false,
    "scrolled": true
   },
   "outputs": [
    {
     "name": "stdout",
     "output_type": "stream",
     "text": [
      "14167\tthe\n",
      "6446\tof\n",
      "6309\tand\n",
      "4597\ta\n",
      "4512\tto\n",
      "4070\tin\n",
      "3042\tthat\n",
      "2495\tit\n",
      "2495\this\n",
      "2097\ti\n",
      "1875\the\n",
      "1801\tbut\n",
      "1721\tas\n",
      "1712\tis\n",
      "1688\twith\n",
      "1636\twas\n",
      "1592\tfor\n",
      "1498\tall\n",
      "1376\tthis\n",
      "1303\tat\n",
      "1208\tnot\n",
      "1172\tby\n",
      "1072\tfrom\n",
      "1058\thim\n",
      "1047\tso\n",
      "1036\ton\n",
      "1029\tbe\n",
      "1029\twhale\n",
      "898\tone\n",
      "879\tyou\n",
      "852\tthere\n",
      "779\tnow\n",
      "767\thad\n",
      "756\thave\n",
      "691\tor\n",
      "676\twere\n",
      "650\tthey\n",
      "629\tme\n",
      "626\tthen\n",
      "625\twhich\n",
      "612\tsome\n",
      "605\ttheir\n",
      "600\twhen\n",
      "597\twhat\n",
      "590\tan\n",
      "586\tmy\n",
      "586\tare\n",
      "578\tno\n",
      "572\tlike\n",
      "561\tupon\n"
     ]
    }
   ],
   "source": [
    "for t, c in tokens.most_common(50):\n",
    "    print(u'{}\\t{}'.format(c, t))"
   ]
  },
  {
   "cell_type": "code",
   "execution_count": 9,
   "metadata": {
    "collapsed": false
   },
   "outputs": [
    {
     "name": "stdout",
     "output_type": "stream",
     "text": [
      "whale\t&\t1029\t&\t\\emojimanwithguapimao\t&\t743 \\\\\n",
      "one\t&\t898\t&\t\\emojiinformationdeskperson\t&\t724 \\\\\n",
      "like\t&\t572\t&\t\\emojiprincess\t&\t669 \\\\\n",
      "upon\t&\t561\t&\t\\emojicoffee\t&\t637 \\\\\n",
      "ahab\t&\t511\t&\t\\emojiambulance\t&\t626 \\\\\n",
      "man\t&\t497\t&\t\\emojimortarboard\t&\t607 \\\\\n",
      "ship\t&\t464\t&\t\\emojikey\t&\t598 \\\\\n",
      "old\t&\t435\t&\t\\emojiferriswheel\t&\t574 \\\\\n",
      "ye\t&\t433\t&\t\\emojidepartmentstore\t&\t556 \\\\\n",
      "would\t&\t429\t&\t\\emojiheavymultiplicationx\t&\t537 \\\\\n",
      "though\t&\t380\t&\t\\emojigreyquestion\t&\t511 \\\\\n",
      "sea\t&\t367\t&\t\\emojiwhale\t&\t496 \\\\\n",
      "yet\t&\t344\t&\t\\emojigreyexclamation\t&\t442 \\\\\n",
      "time\t&\t325\t&\t\\emojieyes\t&\t439 \\\\\n",
      "captain\t&\t323\t&\t\\emojiboy\t&\t438 \\\\\n",
      "long\t&\t315\t&\t\\emojipersonwithpoutingface\t&\t419 \\\\\n",
      "still\t&\t312\t&\t\\emojiclap\t&\t415 \\\\\n",
      "said\t&\t299\t&\t\\emojiexclamation\t&\t407 \\\\\n",
      "great\t&\t288\t&\t\\emojiflushed\t&\t399 \\\\\n",
      "boat\t&\t286\t&\t\\emojiman\t&\t379 \\\\\n"
     ]
    }
   ],
   "source": [
    "for (e, e_c), (t, t_c), (ns, ns_c) in zip(emoji.most_common(20), tokens.most_common(20), \n",
    "                                          [i for i in tokens.most_common(1000) if i[0] not in STOPS]):\n",
    "    print(\"{}\\t&\\t{}\\t&\\t\\emoji{}\\t&\\t{} \\\\\\\\\".format(ns, ns_c, e.strip(':').replace('_', ''), e_c))"
   ]
  },
  {
   "cell_type": "markdown",
   "metadata": {},
   "source": [
    "## Learning an alignment model"
   ]
  },
  {
   "cell_type": "code",
   "execution_count": 10,
   "metadata": {
    "collapsed": false,
    "scrolled": true
   },
   "outputs": [
    {
     "name": "stdout",
     "output_type": "stream",
     "text": [
      "Got 9971 pairs\n",
      "Got 9734 pairs - filtered\n"
     ]
    }
   ],
   "source": [
    "def clean(t):\n",
    "    return [i.lower() for i in t if not i.lower() in STOPS and not set(i).intersection(set(string.punctuation))]\n",
    "\n",
    "def iter_alignments(model):\n",
    "    counts = {}\n",
    "    for t, d in model.translation_table.iteritems():\n",
    "        for e, p in d.iteritems():\n",
    "            counts[(t, e)] = p\n",
    "    counts = counts.items()\n",
    "    counts.sort(reverse=True, key=lambda i: i[1])\n",
    "    for (t, e), p in counts:\n",
    "        if t is None or e is None:\n",
    "            continue\n",
    "        yield t, e, p\n",
    "        \n",
    "def report_alignments(model):\n",
    "    for i, (t, e, p) in enumerate(iter_alignments(model)):\n",
    "        print(u'{:.3f}\\t{}\\t{}'.format(p, t, format_em(e)))\n",
    "        if i == 200:\n",
    "            break\n",
    "            \n",
    "def build_aligned(data):\n",
    "    return [AlignedSent(e, t) for t, e in data if t and e]\n",
    "\n",
    "data = [(clean(t), e) for t, e in lines]\n",
    "print('Got {} pairs'.format(len(data)))\n",
    "t_to_e_data = [AlignedSent(t, e) for t, e in data if t and e]\n",
    "e_to_t_data = [AlignedSent(e, t) for t, e in data if t and e]\n",
    "print('Got {} pairs - filtered'.format(len(t_to_e_data)))"
   ]
  },
  {
   "cell_type": "markdown",
   "metadata": {},
   "source": [
    "## IBM Model 1 - No word order considered, one-to-one"
   ]
  },
  {
   "cell_type": "code",
   "execution_count": 11,
   "metadata": {
    "collapsed": false,
    "scrolled": false
   },
   "outputs": [
    {
     "name": "stdout",
     "output_type": "stream",
     "text": [
      "Trained model in 0:04:24.495783\n"
     ]
    }
   ],
   "source": [
    "start = datetime.datetime.now()\n",
    "t_to_e_model = IBMModel1(t_to_e_data, 100)\n",
    "print('Trained model in {}'.format(datetime.datetime.now() - start))\n",
    "report_alignments(t_to_e_model)"
   ]
  },
  {
   "cell_type": "markdown",
   "metadata": {},
   "source": [
    "# What tokens do emojis map to?\n",
    "\n",
    "We consider _all_ the tokens that each emoji is mapped to in the translation table, ranking by total probability mass in the translation table."
   ]
  },
  {
   "cell_type": "code",
   "execution_count": 12,
   "metadata": {
    "collapsed": false,
    "scrolled": true
   },
   "outputs": [],
   "source": [
    "def obj_dist(model):\n",
    "    def iter_pairs(model):\n",
    "        for t, d in model.translation_table.iteritems():\n",
    "            for s, p in d.iteritems():\n",
    "                #if t is None or s is None:\n",
    "                #    continue\n",
    "                yield s, t, p\n",
    "    by_obj = {}\n",
    "    for s, t, p in iter_pairs(model):\n",
    "        by_obj.setdefault(s, []).append((p, t))\n",
    "    return list(sorted(((max(i[0] for i in dist), sp.stats.entropy(np.array([i[0] for i in dist])), s, dist) \n",
    "                        for s, dist in by_obj.items()),\n",
    "                       reverse=True))\n",
    "\n",
    "def format_em(em_name):\n",
    "    e = emoji_package.emojize(em_name)\n",
    "    if em_name == e:\n",
    "        e = '?'\n",
    "    return u'{} ({})'.format(e, em_name)\n",
    "\n",
    "def format_emone(em_name):\n",
    "    return '\\\\emoji{}'.format(e.strip(':').replace('_', ''))"
   ]
  },
  {
   "cell_type": "code",
   "execution_count": 13,
   "metadata": {
    "collapsed": false,
    "scrolled": false
   },
   "outputs": [
    {
     "name": "stdout",
     "output_type": "stream",
     "text": [
      "\\emojiwhale\t&\twhale\t&\t.23\t&\tsperm\t&\t.06\t&\twhales\t&\t.05\t&\t\\emojiman\t&\tman\t&\t.07\t&\tmen\t&\t.05\t&\tahab\t&\t.02 \\\\\n",
      "\\emojiledger\t&\tchapter\t&\t.15\t&\tbook\t&\t.05\t&\tread\t&\t.03\t&\t\\emojiship\t&\tship\t&\t.07\t&\tlay\t&\t.02\t&\tvessel\t&\t.02 \\\\\n",
      "None\t&\tone\t&\t.11\t&\twhale\t&\t.11\t&\tlike\t&\t.06\t&\t\\emojizzz\t&\tbed\t&\t.06\t&\tgood\t&\t.03\t&\tsleeping\t&\t.02 \\\\\n",
      "\\emojione\t&\tchapter\t&\t.10\t&\ttwo\t&\t.02\t&\tone\t&\t.02\t&\t\\emojidolphin\t&\twhale\t&\t.06\t&\tamong\t&\t.03\t&\tsperm\t&\t.03 \\\\\n",
      "\\emojicop\t&\tcaptain\t&\t.08\t&\tsir\t&\t.06\t&\tknow\t&\t.02\t&\t\\emoji+1\t&\tgood\t&\t.06\t&\tthings\t&\t.03\t&\tman\t&\t.03 \\\\\n",
      "\\emojisunny\t&\tsun\t&\t.08\t&\tsunrise\t&\t.03\t&\tair\t&\t.03\t&\t\\emojidroplet\t&\twater\t&\t.06\t&\tsea\t&\t.05\t&\tround\t&\t.02 \\\\\n",
      "\\emojisix\t&\tchapter\t&\t.08\t&\tstraight\t&\t.02\t&\tbeheld\t&\t.01\t&\t\\emojiskull\t&\tdeath\t&\t.05\t&\tlife\t&\t.03\t&\tdead\t&\t.03 \\\\\n",
      "\\emojieyes\t&\tsee\t&\t.08\t&\teyes\t&\t.05\t&\tseen\t&\t.03\t&\t\\emojivirgo\t&\twhales\t&\t.05\t&\tsperm\t&\t.03\t&\tancient\t&\t.02 \\\\\n",
      "\\emojispeedboat\t&\tboat\t&\t.07\t&\tship\t&\t.03\t&\tboats\t&\t.03\t&\t\\emojigreyexclamation\t&\toh\t&\t.05\t&\taye\t&\t.02\t&\told\t&\t.02 \\\\\n",
      "\\emojihand\t&\thand\t&\t.07\t&\tsay\t&\t.03\t&\tstop\t&\t.03\t&\t\\emojicitysunrise\t&\twhales\t&\t.05\t&\tstarbuck\t&\t.02\t&\tfossil\t&\t.02 \\\\\n"
     ]
    }
   ],
   "source": [
    "by_emoji = obj_dist(t_to_e_model)\n",
    "rows = []\n",
    "for max_p, entropy, e, dist in by_emoji[:20]:\n",
    "    dist = list(sorted(dist, reverse=True))\n",
    "    e = format_emone(e) if e else None\n",
    "    rows.append(u'{}\\t&\\t{}'.format(e, '\\t&\\t'.join(u'{}\\t&\\t{}'.format(t, '{:.2f}'.format(p)[1:])\n",
    "                                     for p, t in dist[:3])))\n",
    "for i, j in zip(rows[:10], rows[10:]):\n",
    "    print(u'{}\\t&\\t{} \\\\\\\\'.format(i, j))"
   ]
  },
  {
   "cell_type": "markdown",
   "metadata": {},
   "source": [
    "# Units of analysis"
   ]
  },
  {
   "cell_type": "markdown",
   "metadata": {},
   "source": [
    "## Can we induce parts of speech from alignments?\n",
    "\n",
    "We process the text using BookNLP, and calculate the POS distribution for each token. Pivoting by the token alignment probabilities, we can map each emoji to a POS distribution.\n",
    "\n",
    "```\n",
    "emoji <-(p_align)-> token <-(p_pos)-> POS\n",
    "```"
   ]
  },
  {
   "cell_type": "code",
   "execution_count": 14,
   "metadata": {
    "collapsed": false,
    "scrolled": true
   },
   "outputs": [],
   "source": [
    "def iter_booknlp():\n",
    "    # paragraphId\tsentenceID\ttokenId\tbeginOffset\tendOffset\twhitespaceAfter\theadTokenId\t\n",
    "    # originalWord\tnormalizedWord\tlemma\tpos\tner\tdeprel\tinQuotationcharacterId\n",
    "    with open('book-nlp-output/melville.moby.tokens') as f:\n",
    "        rows = csv.DictReader(f, delimiter='\\t')\n",
    "        for sentence_index, sentence_tokens in itertools.groupby(rows, lambda r: r.get('sentenceID')):\n",
    "            yield list(sentence_tokens)\n",
    "\n",
    "token_dist = Counter()\n",
    "token_pos = {}\n",
    "for sentence_tokens in iter_booknlp():\n",
    "    for token in sentence_tokens:\n",
    "        token_dist[token['originalWord'].lower()] += 1\n",
    "        token_pos.setdefault(token['originalWord'].lower(), Counter())[token['pos']] += 1\n",
    "\n",
    "# Normalise it all.\n",
    "def normalise(d):\n",
    "    return {p: c / float(sum(d.values())) for p, c in d.iteritems()}\n",
    "token_pos = {t.lower(): normalise(d) for t, d in token_pos.iteritems()}\n",
    "total = float(sum(token_dist.itervalues()))\n",
    "token_dist = {t: c / total for t, c in token_dist.iteritems()}"
   ]
  },
  {
   "cell_type": "code",
   "execution_count": 15,
   "metadata": {
    "collapsed": false,
    "scrolled": true
   },
   "outputs": [],
   "source": [
    "emoji_pos = {}\n",
    "for max_p, entropy, e, dist in by_emoji:\n",
    "    dist = list(sorted(dist, reverse=True))\n",
    "    for p_align, t in dist:\n",
    "        pos_dist = token_pos.get(t.lower())\n",
    "        if pos_dist is None:\n",
    "            #print('No dist for {}'.format(t))\n",
    "            continue\n",
    "        for pos, p_pos in pos_dist.iteritems():\n",
    "            pos = pos[:2]\n",
    "            emoji_pos.setdefault(e, Counter())[pos] += p_align * p_pos\n",
    "emoji_pos = {e: list(sorted(dist.items(), reverse=True, key=lambda i: i[1])) for e, dist in emoji_pos.iteritems()}\n",
    "\n",
    "majority = {}\n",
    "for e, dist in emoji_pos.iteritems():\n",
    "    pos, p = dist[0]\n",
    "    majority.setdefault(pos, []).append((p, e))"
   ]
  },
  {
   "cell_type": "markdown",
   "metadata": {},
   "source": [
    "Perhaps unsurprisingly, emojis are most likely nouns."
   ]
  },
  {
   "cell_type": "code",
   "execution_count": 16,
   "metadata": {
    "collapsed": false,
    "scrolled": true
   },
   "outputs": [
    {
     "name": "stdout",
     "output_type": "stream",
     "text": [
      "VB\n",
      "\t0.37\t👀 (:eyes:)\n",
      "\t0.36\t? (:vs:)\n",
      "\t0.30\t? (:smiley_cat:)\n",
      "\t0.29\t? (:fries:)\n",
      "\t0.29\t🎤 (:microphone:)\n",
      "NN\n",
      "\t0.70\t🐋 (:whale:)\n",
      "\t0.56\t? (:leaves:)\n",
      "\t0.55\t? (:gem:)\n",
      "\t0.53\t? (:up:)\n",
      "\t0.52\t? (:cop:)\n",
      "\t0.52\t? (:open_hands:)\n",
      "\t0.52\t🍞 (:bread:)\n",
      "\t0.52\t? (:city_sunset:)\n",
      "\t0.51\t☃ (:snowman:)\n",
      "\t0.51\t👶 (:baby:)\n"
     ]
    }
   ],
   "source": [
    "for pos, emoji_items in majority.iteritems():\n",
    "    print(pos)\n",
    "    emoji_items = list(sorted(emoji_items, reverse=True))\n",
    "    for p, e in emoji_items[:10]:\n",
    "        print(u'\\t{:.2f}\\t{}'.format(p, format_em(e)))"
   ]
  },
  {
   "cell_type": "markdown",
   "metadata": {},
   "source": [
    "This is the distribution of POS over all tokens."
   ]
  },
  {
   "cell_type": "markdown",
   "metadata": {},
   "source": [
    "This is the distribution of POS over all emojis. Nouns are still the most probable POS, but the distribution has a skinnier tail, as more mass has been shifted to Nouns in emoji. There seems to be limited alignment to IN, DT and `,`, so those ordinarily probable categories do not feature."
   ]
  },
  {
   "cell_type": "code",
   "execution_count": 17,
   "metadata": {
    "collapsed": false,
    "scrolled": false
   },
   "outputs": [
    {
     "data": {
      "image/png": "[encoded data removed]",
      "text/plain": [
       "<matplotlib.figure.Figure at 0x110190f90>"
      ]
     },
     "metadata": {},
     "output_type": "display_data"
    }
   ],
   "source": [
    "all_token_pos = Counter()\n",
    "for t, p_t in token_dist.iteritems():\n",
    "    for pos, p_pos in token_pos[t].iteritems():\n",
    "        all_token_pos[pos[:2]] += p_t * p_pos\n",
    "\n",
    "emoji_dist = Counter()\n",
    "for _, emojis in data:\n",
    "    emoji_dist.update(emojis)\n",
    "total = float(sum(emoji_dist.itervalues()))\n",
    "emoji_dist = {e: c / total for e, c in emoji_dist.iteritems()}\n",
    "all_pos = Counter()\n",
    "for e, p_e in emoji_dist.iteritems():\n",
    "    for pos, p_pos in emoji_pos.get(e, []):\n",
    "        all_pos[pos[:2]] += p_e * p_pos\n",
    "\n",
    "ax = pd.DataFrame({'POS': pos, 'EMOJI': all_pos.get(pos), \n",
    "               'TOKEN': all_token_pos.get(pos)} for pos, p in all_token_pos.most_common(20))\\\n",
    "               .plot(kind='bar', x='POS', subplots=True, legend=False, ylim=(0, 0.45))\n",
    "mpl.savefig('pos.pdf')"
   ]
  },
  {
   "cell_type": "markdown",
   "metadata": {},
   "source": [
    "## Emoji bigram models\n",
    "\n",
    "We can calculate the probability of pairs of consecutive tokens, and emojis. The emoji repetition rate is much higher than that of tokens."
   ]
  },
  {
   "cell_type": "code",
   "execution_count": 18,
   "metadata": {
    "collapsed": false
   },
   "outputs": [
    {
     "name": "stdout",
     "output_type": "stream",
     "text": [
      "Token repetition rate: 0.004\n",
      "Emoji repetition rate: 0.032\n"
     ]
    }
   ],
   "source": [
    "def bigrams(seq):\n",
    "    for i in xrange(len(seq) - 1):\n",
    "        yield seq[i], seq[i+1]\n",
    "\n",
    "pairs = Counter()\n",
    "references = {}\n",
    "token_repetitions, emoji_repetitions = Counter(), Counter()\n",
    "for (text, emoji), sentence_tokens in zip(data, iter_booknlp()):\n",
    "    for t_i, t_j in bigrams(text):\n",
    "        token_repetitions[t_i == t_j] += 1\n",
    "    for e_i, e_j in bigrams(emoji):\n",
    "        key = u'{} {}'.format(format_em(e_i), format_em(e_j))\n",
    "        emoji_repetitions[e_i == e_j] += 1\n",
    "        pairs[key] += 1\n",
    "        references.setdefault(key, Counter())[' '.join(text)] += 1\n",
    "\n",
    "print('Token repetition rate: {:.3f}'.format(token_repetitions[True] / float(sum(token_repetitions.values()))))\n",
    "print('Emoji repetition rate: {:.3f}'.format(emoji_repetitions[True] / float(sum(emoji_repetitions.values()))))"
   ]
  },
  {
   "cell_type": "code",
   "execution_count": 19,
   "metadata": {
    "collapsed": false
   },
   "outputs": [
    {
     "name": "stdout",
     "output_type": "stream",
     "text": [
      "👲 (:man_with_gua_pi_mao:) 👸 (:princess:)\t327\n",
      "? (:mortar_board:) ? (:coffee:)\t308\n",
      "💁 (:information_desk_person:) 🚑 (:ambulance:)\t306\n",
      "👸 (:princess:) 🎡 (:ferris_wheel:)\t306\n",
      "🚑 (:ambulance:) ? (:mortar_board:)\t305\n",
      "? (:coffee:) 👲 (:man_with_gua_pi_mao:)\t303\n",
      "🔑 (:key:) 💁 (:information_desk_person:)\t300\n",
      "🏬 (:department_store:) 🔑 (:key:)\t297\n",
      "💑 (:couple_with_heart:) 💑 (:couple_with_heart:)\t43\n",
      "? (:muscle:) ? (:muscle:)\t39\n",
      "? (:grey_exclamation:) ? (:grey_exclamation:)\t29\n",
      "👦 (:boy:) 👦 (:boy:)\t23\n",
      "? (:question:) ? (:question:)\t20\n",
      "👦 (:boy:) 💂 (:guardsman:)\t19\n",
      "🌿 (:herb:) 🔔 (:bell:)\t18\n",
      "? (:o:) ? (:o:)\t18\n",
      "👸 (:princess:) 👲 (:man_with_gua_pi_mao:)\t18\n",
      "? (:fearful:) ? (:fearful:)\t18\n",
      "💜 (:purple_heart:) 💜 (:purple_heart:)\t16\n",
      "? (:eggplant:) 🌿 (:herb:)\t16\n",
      "🎡 (:ferris_wheel:) ? (:eggplant:)\t16\n",
      "🍧 (:shaved_ice:) ? (:mask:)\t16\n",
      "🎡 (:ferris_wheel:) 👸 (:princess:)\t15\n",
      "? (:stuck_out_tongue_winking_eye:) ? (:stuck_out_tongue_winking_eye:)\t15\n",
      "? (:zero:) ? (:zero:)\t15\n",
      "👸 (:princess:) 👩 (:woman:)\t15\n",
      "🔔 (:bell:) ? (:hash:)\t14\n",
      "👀 (:eyes:) 👀 (:eyes:)\t14\n",
      "👦 (:boy:) 👧 (:girl:)\t14\n",
      "? (:one:) ? (:seven:)\t14\n",
      "? (:grey_question:) ? (:grey_question:)\t14\n",
      "💁 (:information_desk_person:) 👲 (:man_with_gua_pi_mao:)\t14\n",
      "? (:heart_eyes_cat:) 👴 (:older_man:)\t13\n",
      "♑ (:capricorn:) 🐋 (:whale:)\t13\n",
      "🐬 (:dolphin:) 🐋 (:whale:)\t13\n",
      "? (:one:) ? (:one:)\t12\n",
      "🎣 (:fishing_pole_and_fish:) 🐬 (:dolphin:)\t12\n",
      "? (:blue_car:) ? (:stuck_out_tongue_closed_eyes:)\t12\n",
      "😫 (:tired_face:) ? (:clap:)\t12\n",
      "? (:stuck_out_tongue_winking_eye:) ? (:blush:)\t12\n",
      "? (:disappointed:) ? (:grey_exclamation:)\t12\n",
      "? (:relieved:) ? (:relieved:)\t11\n",
      "🗽 (:statue_of_liberty:) ? (:dart:)\t11\n",
      "? (:cop:) 🍧 (:shaved_ice:)\t11\n",
      "🏨 (:hotel:) 🎄 (:christmas_tree:)\t11\n",
      "🔥 (:fire:) 🙎 (:person_with_pouting_face:)\t11\n",
      "🐋 (:whale:) 🐋 (:whale:)\t11\n",
      "🔥 (:fire:) 🔥 (:fire:)\t11\n",
      "⛵ (:sailboat:) ⛵ (:sailboat:)\t11\n",
      "? (:mask:) 🏬 (:department_store:)\t11\n",
      "👒 (:womans_hat:) ? (:disappointed:)\t11\n",
      "? (:five:) ? (:cop:)\t11\n",
      "? (:calling:) ♑ (:capricorn:)\t10\n",
      "🎆 (:fireworks:) ? (:two:)\t10\n",
      "? (:smiley_cat:) 🗽 (:statue_of_liberty:)\t10\n",
      "? (:clap:) ? (:clap:)\t10\n",
      "🐨 (:koala:) ? (:alien:)\t10\n",
      "? (:ocean:) ? (:ocean:)\t10\n",
      "? (:alien:) ? (:alien:)\t10\n",
      "? (:blush:) ? (:stuck_out_tongue_winking_eye:)\t10\n",
      "🐽 (:pig_nose:) 🐽 (:pig_nose:)\t10\n",
      "👳 (:man_with_turban:) 👳 (:man_with_turban:)\t10\n",
      "? (:seven:) ? (:one:)\t10\n",
      "? (:dart:) ? (:mahjong:)\t10\n",
      "? (:ok_hand:) ? (:fist:)\t10\n",
      "👲 (:man_with_gua_pi_mao:) ? (:coffee:)\t10\n",
      "👳 (:man_with_turban:) 🙎 (:person_with_pouting_face:)\t10\n",
      "? (:boot:) ? (:sandal:)\t10\n",
      "? (:bow:) 👧 (:girl:)\t10\n",
      "? (:lips:) ? (:lips:)\t10\n",
      "? (:two:) ? (:three:)\t10\n",
      "✴ (:eight_pointed_black_star:) 🔹 (:small_blue_diamond:)\t10\n",
      "? (:clap:) ? (:relieved:)\t10\n",
      "? (:up:) ? (:up:)\t9\n",
      "? (:exclamation:) ? (:exclamation:)\t9\n",
      "? (:hash:) ? (:tv:)\t9\n",
      "? (:five:) ? (:three:)\t9\n",
      "💂 (:guardsman:) 👦 (:boy:)\t9\n",
      "? (:fist:) ? (:ok_hand:)\t9\n",
      "✴ (:eight_pointed_black_star:) 🎫 (:ticket:)\t9\n",
      "? (:tv:) ? (:hash:)\t9\n",
      "👟 (:athletic_shoe:) ? (:punch:)\t9\n",
      "🌴 (:palm_tree:) 🌴 (:palm_tree:)\t9\n",
      "? (:cop:) ? (:mask:)\t9\n",
      "💚 (:green_heart:) 🌴 (:palm_tree:)\t9\n",
      "? (:wink:) ♊ (:gemini:)\t9\n",
      "🌺 (:hibiscus:) ? (:gift_heart:)\t9\n",
      "? (:clock4:) ? (:five:)\t9\n",
      "? (:smirk:) 💚 (:green_heart:)\t9\n",
      "? (:one:) ? (:two:)\t9\n",
      "♎ (:libra:) ? (:birthday:)\t9\n",
      "👨 (:man:) 👩 (:woman:)\t9\n",
      "💏 (:kiss:) ? (:dolls:)\t9\n",
      "✖ (:heavy_multiplication_x:) ✖ (:heavy_multiplication_x:)\t9\n",
      "🐑 (:sheep:) 💾 (:floppy_disk:)\t9\n",
      "♑ (:capricorn:) ? (:scissors:)\t9\n",
      "🐋 (:whale:) 👒 (:womans_hat:)\t9\n",
      "? (:high_heel:) ? (:lips:)\t9\n",
      "? (:fearful:) 👵 (:older_woman:)\t9\n",
      "💂 (:guardsman:) 💂 (:guardsman:)\t9\n"
     ]
    }
   ],
   "source": [
    "for p, c in pairs.most_common(100):\n",
    "    print(u'{}\\t{}'.format(p, c))"
   ]
  }
 ],
 "metadata": {
  "kernelspec": {
   "display_name": "Python 2",
   "language": "python",
   "name": "python2"
  },
  "language_info": {
   "codemirror_mode": {
    "name": "ipython",
    "version": 2
   },
   "file_extension": ".py",
   "mimetype": "text/x-python",
   "name": "python",
   "nbconvert_exporter": "python",
   "pygments_lexer": "ipython2",
   "version": "2.7.11"
  }
 },
 "nbformat": 4,
 "nbformat_minor": 0
}
